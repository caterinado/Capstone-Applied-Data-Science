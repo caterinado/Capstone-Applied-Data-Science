{
 "cells": [
  {
   "cell_type": "markdown",
   "metadata": {},
   "source": [
    "# Business Problem"
   ]
  },
  {
   "cell_type": "markdown",
   "metadata": {},
   "source": [
    "Moving to a new multicultural city is a complex process that involves many stressful tasks. One of them is looking for a new place where to live. On top of the challenge of finding a new place to call home, it is very important to find the neighbourhood that matches its life-style and that has the facilities that matter the most. \n",
    "\n",
    "However, when moving to a new city it is not obvious to have a clear picture of each neighbourhood and to have the time to explore them before renting a new place. Finding the best-fit neighbourhood in a new city became sometimes more challenging than finds the perfect house. This task is also challenging for the rental agency, which lacks the information that matters to suggest to a new tenant a neighbourhood based on his life-style and preferences. The rental agency would benefit to find the perfect neighbourhood for a new tenant as this will increase the lasting time of a tenant in a property and customer satisfaction. \n",
    "\n",
    "Our problem will focus on the city of Paris. I would like to better understand and categorize the central arrondissements (neighborhoods) of Paris to help people moving to this city to find the best neighbourhood to live in based on their lifestyle and demography. This analysis will also help the rental agencies to understand better the main characterizes of a neighborhood and how they could suit different life-style. \n"
   ]
  },
  {
   "cell_type": "markdown",
   "metadata": {},
   "source": [
    "# Data Used"
   ]
  },
  {
   "cell_type": "markdown",
   "metadata": {},
   "source": [
    "I will use the neighbourhood's data in the city of Paris. \n",
    "\n",
    "I will explore and cluster them based on the type of venues present in each area. Thanks to this analysis I will categorize and describe them and provide a short summary. \n",
    "Also, I will try to associate each area/cluster with a certain lifestyle (eg. Family, People that love going out, quiet area, residential area) in order to help new tenants to find the perfect neighbourhood in Paris."
   ]
  },
  {
   "cell_type": "code",
   "execution_count": null,
   "metadata": {},
   "outputs": [],
   "source": []
  }
 ],
 "metadata": {
  "kernelspec": {
   "display_name": "Python",
   "language": "python",
   "name": "conda-env-python-py"
  },
  "language_info": {
   "codemirror_mode": {
    "name": "ipython",
    "version": 3
   },
   "file_extension": ".py",
   "mimetype": "text/x-python",
   "name": "python",
   "nbconvert_exporter": "python",
   "pygments_lexer": "ipython3",
   "version": "3.6.11"
  }
 },
 "nbformat": 4,
 "nbformat_minor": 4
}
